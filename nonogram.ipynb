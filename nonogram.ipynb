{
 "cells": [
  {
   "cell_type": "code",
   "execution_count": null,
   "metadata": {},
   "outputs": [],
   "source": [
    "import random as rn\n",
    "import itertools as it"
   ]
  },
  {
   "cell_type": "code",
   "execution_count": null,
   "metadata": {},
   "outputs": [],
   "source": [
    "def oluştur(x,y) :\n",
    "    m=[]\n",
    "    for i in range(y) :\n",
    "        l=[]\n",
    "        for j in range(x) :\n",
    "            l.append(rn.getrandbits(1))\n",
    "        m.append(l)\n",
    "    return m    "
   ]
  },
  {
   "cell_type": "code",
   "execution_count": null,
   "metadata": {},
   "outputs": [],
   "source": [
    "def yanyanamı(l,i) :\n",
    "    try:\n",
    "        l[i+1]\n",
    "    except IndexError :\n",
    "        return False\n",
    "    if l[i+1]>0 :\n",
    "        return True\n",
    "    else :\n",
    "        return False"
   ]
  },
  {
   "cell_type": "code",
   "execution_count": null,
   "metadata": {},
   "outputs": [],
   "source": [
    "def xsayı(m) :\n",
    "    s=[]\n",
    "    t=0\n",
    "    for i in m :\n",
    "        q=[]\n",
    "        for j in range(len(i)) :\n",
    "            if i[j]==1 and not(yanyanamı(i,j)):  \n",
    "                t+=1\n",
    "                q.append(t)\n",
    "                t=0\n",
    "            elif i[j]==1 and yanyanamı(i,j):\n",
    "                t+=1\n",
    "        s.append(q)\n",
    "    return s    "
   ]
  },
  {
   "cell_type": "code",
   "execution_count": null,
   "metadata": {},
   "outputs": [],
   "source": [
    "def ysayı(m) :\n",
    "    s=[]\n",
    "    t=0    \n",
    "    for i in range(len(m[0])) :\n",
    "        l=[]\n",
    "        q=[]\n",
    "        l=[j[i] for j in m]\n",
    "        for j in range(len(l)) :\n",
    "            if l[j]==1 and not(yanyanamı(l,j)) :\n",
    "                t+=1\n",
    "                q.append(t)\n",
    "                t=0\n",
    "            elif l[j]==1 and yanyanamı(l,j) :\n",
    "                t+=1\n",
    "        s.append(q)\n",
    "    return s        "
   ]
  },
  {
   "cell_type": "code",
   "execution_count": null,
   "metadata": {},
   "outputs": [],
   "source": [
    "def sıfır_ekle(m,b) :\n",
    "    if b==0 :\n",
    "        s=xsayı(m)\n",
    "        for i in s :\n",
    "            for j in range(len(m[0])-sum(i)) :\n",
    "                i.append(0)\n",
    "    elif b==1 :\n",
    "        s=ysayı(m)\n",
    "        for i in s :\n",
    "            for j in range(len(m)-sum(i)) :\n",
    "                i.append(0)    \n",
    "    return s\n",
    "            "
   ]
  },
  {
   "cell_type": "code",
   "execution_count": null,
   "metadata": {},
   "outputs": [],
   "source": [
    "def durumlar(s) :\n",
    "    l=list(it.permutations(s,len(s)))\n",
    "    i=0\n",
    "    while True :\n",
    "        try :\n",
    "            l[i]\n",
    "        except IndexError :\n",
    "            break\n",
    "        while l.count(l[i])>1 :\n",
    "            l.remove(l[i])\n",
    "        i+=1\n",
    "    i=0\n",
    "    while True :\n",
    "        try :\n",
    "            l[i]\n",
    "        except IndexError :\n",
    "            break\n",
    "        j=0\n",
    "        while True :\n",
    "            if l[i][j]>0 and yanyanamı(l[i],j) :\n",
    "                l.remove(l[i])\n",
    "                break\n",
    "            elif j==len(l[0])-1 :\n",
    "                i+=1\n",
    "                break           \n",
    "            j+=1\n",
    "    n=0\n",
    "    while n<len(l):\n",
    "        l[n]=list(l[n])\n",
    "        i=0\n",
    "        while i<len(l[n]) :\n",
    "            if l[n][i]>1 :\n",
    "                k=l[n].pop(i)\n",
    "                for j in range(k) :\n",
    "                    l[n].insert(i,1)\n",
    "            i+=1\n",
    "        n+=1\n",
    "    return l   "
   ]
  },
  {
   "cell_type": "code",
   "execution_count": null,
   "metadata": {},
   "outputs": [],
   "source": [
    "def product(args):\n",
    "    pools = [tuple(pool) for pool in args]\n",
    "    result = [[]]\n",
    "    for pool in pools:\n",
    "        result = [x+[y] for x in result for y in pool]\n",
    "    return result"
   ]
  },
  {
   "cell_type": "code",
   "execution_count": null,
   "metadata": {},
   "outputs": [],
   "source": [
    "def dene(dx,dy):\n",
    "    for i in product([list(range(len(i))) for i in dx]) :\n",
    "        yatay=[dx[a][i[a]] for a in range(len(dx))]\n",
    "        for j in product([list(range(len(i))) for i in dy]) :\n",
    "            dikey=[dy[a][j[a]] for a in range(len(dy))]\n",
    "            ydikey=[]\n",
    "            for k in range(len(dx)) :\n",
    "                q=[]\n",
    "                for l in range(len(dy)) :\n",
    "                    q.append(dikey[l][k])\n",
    "                ydikey.append(q)\n",
    "            print(ydikey,yatay)\n",
    "            if ydikey==yatay :\n",
    "                return yatay"
   ]
  },
  {
   "cell_type": "code",
   "execution_count": null,
   "metadata": {},
   "outputs": [],
   "source": [
    "m=oluştur(4,5)\n",
    "m"
   ]
  },
  {
   "cell_type": "code",
   "execution_count": null,
   "metadata": {
    "scrolled": false
   },
   "outputs": [],
   "source": [
    "print(xsayı(m),ysayı(m))"
   ]
  },
  {
   "cell_type": "code",
   "execution_count": null,
   "metadata": {},
   "outputs": [],
   "source": [
    "dene([durumlar(i) for i in sıfır_ekle(m,0)],[durumlar(i) for i in sıfır_ekle(m,1)])      "
   ]
  }
 ],
 "metadata": {
  "celltoolbar": "Raw Cell Format",
  "kernelspec": {
   "display_name": "Python 3",
   "language": "python",
   "name": "python3"
  },
  "language_info": {
   "codemirror_mode": {
    "name": "ipython",
    "version": 3
   },
   "file_extension": ".py",
   "mimetype": "text/x-python",
   "name": "python",
   "nbconvert_exporter": "python",
   "pygments_lexer": "ipython3",
   "version": "3.7.3"
  }
 },
 "nbformat": 4,
 "nbformat_minor": 2
}
